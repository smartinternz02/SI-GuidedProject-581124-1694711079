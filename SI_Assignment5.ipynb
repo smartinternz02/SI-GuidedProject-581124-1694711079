{
 "cells": [
  {
   "cell_type": "code",
   "execution_count": 1,
   "id": "098e907b",
   "metadata": {},
   "outputs": [],
   "source": [
    "import pandas as pd\n",
    "import numpy as np\n",
    "import matplotlib.pyplot as plt\n",
    "import seaborn as sns\n",
    "from sklearn.impute import SimpleImputer\n",
    "from scipy import stats\n",
    "from sklearn import cluster"
   ]
  },
  {
   "cell_type": "markdown",
   "id": "1331c56c",
   "metadata": {},
   "source": [
    "## Loading the Dataset"
   ]
  },
  {
   "cell_type": "code",
   "execution_count": 2,
   "id": "3ea94f1e",
   "metadata": {},
   "outputs": [
    {
     "data": {
      "text/html": [
       "<div>\n",
       "<style scoped>\n",
       "    .dataframe tbody tr th:only-of-type {\n",
       "        vertical-align: middle;\n",
       "    }\n",
       "\n",
       "    .dataframe tbody tr th {\n",
       "        vertical-align: top;\n",
       "    }\n",
       "\n",
       "    .dataframe thead th {\n",
       "        text-align: right;\n",
       "    }\n",
       "</style>\n",
       "<table border=\"1\" class=\"dataframe\">\n",
       "  <thead>\n",
       "    <tr style=\"text-align: right;\">\n",
       "      <th></th>\n",
       "      <th>CustomerID</th>\n",
       "      <th>Gender</th>\n",
       "      <th>Age</th>\n",
       "      <th>Annual_Income</th>\n",
       "      <th>Spending_Score(1-100)</th>\n",
       "    </tr>\n",
       "  </thead>\n",
       "  <tbody>\n",
       "    <tr>\n",
       "      <th>136</th>\n",
       "      <td>137</td>\n",
       "      <td>Female</td>\n",
       "      <td>44</td>\n",
       "      <td>73</td>\n",
       "      <td>7</td>\n",
       "    </tr>\n",
       "    <tr>\n",
       "      <th>18</th>\n",
       "      <td>19</td>\n",
       "      <td>Male</td>\n",
       "      <td>52</td>\n",
       "      <td>23</td>\n",
       "      <td>29</td>\n",
       "    </tr>\n",
       "    <tr>\n",
       "      <th>26</th>\n",
       "      <td>27</td>\n",
       "      <td>Female</td>\n",
       "      <td>45</td>\n",
       "      <td>28</td>\n",
       "      <td>32</td>\n",
       "    </tr>\n",
       "    <tr>\n",
       "      <th>177</th>\n",
       "      <td>178</td>\n",
       "      <td>Male</td>\n",
       "      <td>27</td>\n",
       "      <td>88</td>\n",
       "      <td>69</td>\n",
       "    </tr>\n",
       "    <tr>\n",
       "      <th>183</th>\n",
       "      <td>184</td>\n",
       "      <td>Female</td>\n",
       "      <td>29</td>\n",
       "      <td>98</td>\n",
       "      <td>88</td>\n",
       "    </tr>\n",
       "  </tbody>\n",
       "</table>\n",
       "</div>"
      ],
      "text/plain": [
       "     CustomerID  Gender  Age  Annual_Income  Spending_Score(1-100)\n",
       "136         137  Female   44             73                      7\n",
       "18           19    Male   52             23                     29\n",
       "26           27  Female   45             28                     32\n",
       "177         178    Male   27             88                     69\n",
       "183         184  Female   29             98                     88"
      ]
     },
     "execution_count": 2,
     "metadata": {},
     "output_type": "execute_result"
    }
   ],
   "source": [
    "df = pd.read_csv('E:\\SmartInternz AI ML\\Dataset\\Mall_Customers.csv')\n",
    "df.sample(5)"
   ]
  },
  {
   "cell_type": "markdown",
   "id": "84a9da04",
   "metadata": {},
   "source": [
    "## Descriptive Statistics"
   ]
  },
  {
   "cell_type": "code",
   "execution_count": 3,
   "id": "ef87423c",
   "metadata": {},
   "outputs": [
    {
     "data": {
      "text/html": [
       "<div>\n",
       "<style scoped>\n",
       "    .dataframe tbody tr th:only-of-type {\n",
       "        vertical-align: middle;\n",
       "    }\n",
       "\n",
       "    .dataframe tbody tr th {\n",
       "        vertical-align: top;\n",
       "    }\n",
       "\n",
       "    .dataframe thead th {\n",
       "        text-align: right;\n",
       "    }\n",
       "</style>\n",
       "<table border=\"1\" class=\"dataframe\">\n",
       "  <thead>\n",
       "    <tr style=\"text-align: right;\">\n",
       "      <th></th>\n",
       "      <th>CustomerID</th>\n",
       "      <th>Age</th>\n",
       "      <th>Annual_Income</th>\n",
       "      <th>Spending_Score(1-100)</th>\n",
       "    </tr>\n",
       "  </thead>\n",
       "  <tbody>\n",
       "    <tr>\n",
       "      <th>count</th>\n",
       "      <td>200.000000</td>\n",
       "      <td>200.000000</td>\n",
       "      <td>200.000000</td>\n",
       "      <td>200.000000</td>\n",
       "    </tr>\n",
       "    <tr>\n",
       "      <th>mean</th>\n",
       "      <td>100.500000</td>\n",
       "      <td>38.850000</td>\n",
       "      <td>60.560000</td>\n",
       "      <td>50.200000</td>\n",
       "    </tr>\n",
       "    <tr>\n",
       "      <th>std</th>\n",
       "      <td>57.879185</td>\n",
       "      <td>13.969007</td>\n",
       "      <td>26.264721</td>\n",
       "      <td>25.823522</td>\n",
       "    </tr>\n",
       "    <tr>\n",
       "      <th>min</th>\n",
       "      <td>1.000000</td>\n",
       "      <td>18.000000</td>\n",
       "      <td>15.000000</td>\n",
       "      <td>1.000000</td>\n",
       "    </tr>\n",
       "    <tr>\n",
       "      <th>25%</th>\n",
       "      <td>50.750000</td>\n",
       "      <td>28.750000</td>\n",
       "      <td>41.500000</td>\n",
       "      <td>34.750000</td>\n",
       "    </tr>\n",
       "    <tr>\n",
       "      <th>50%</th>\n",
       "      <td>100.500000</td>\n",
       "      <td>36.000000</td>\n",
       "      <td>61.500000</td>\n",
       "      <td>50.000000</td>\n",
       "    </tr>\n",
       "    <tr>\n",
       "      <th>75%</th>\n",
       "      <td>150.250000</td>\n",
       "      <td>49.000000</td>\n",
       "      <td>78.000000</td>\n",
       "      <td>73.000000</td>\n",
       "    </tr>\n",
       "    <tr>\n",
       "      <th>max</th>\n",
       "      <td>200.000000</td>\n",
       "      <td>70.000000</td>\n",
       "      <td>137.000000</td>\n",
       "      <td>99.000000</td>\n",
       "    </tr>\n",
       "  </tbody>\n",
       "</table>\n",
       "</div>"
      ],
      "text/plain": [
       "       CustomerID         Age  Annual_Income  Spending_Score(1-100)\n",
       "count  200.000000  200.000000     200.000000             200.000000\n",
       "mean   100.500000   38.850000      60.560000              50.200000\n",
       "std     57.879185   13.969007      26.264721              25.823522\n",
       "min      1.000000   18.000000      15.000000               1.000000\n",
       "25%     50.750000   28.750000      41.500000              34.750000\n",
       "50%    100.500000   36.000000      61.500000              50.000000\n",
       "75%    150.250000   49.000000      78.000000              73.000000\n",
       "max    200.000000   70.000000     137.000000              99.000000"
      ]
     },
     "execution_count": 3,
     "metadata": {},
     "output_type": "execute_result"
    }
   ],
   "source": [
    "df.describe()"
   ]
  },
  {
   "cell_type": "code",
   "execution_count": 4,
   "id": "dd2aa3f3",
   "metadata": {},
   "outputs": [
    {
     "data": {
      "text/plain": [
       "(200, 5)"
      ]
     },
     "execution_count": 4,
     "metadata": {},
     "output_type": "execute_result"
    }
   ],
   "source": [
    "df.shape"
   ]
  },
  {
   "cell_type": "markdown",
   "id": "c849b3db",
   "metadata": {},
   "source": [
    "## Checking for Missing Values"
   ]
  },
  {
   "cell_type": "code",
   "execution_count": 5,
   "id": "873f7090",
   "metadata": {},
   "outputs": [
    {
     "data": {
      "text/plain": [
       "CustomerID               False\n",
       "Gender                   False\n",
       "Age                      False\n",
       "Annual_Income            False\n",
       "Spending_Score(1-100)    False\n",
       "dtype: bool"
      ]
     },
     "execution_count": 5,
     "metadata": {},
     "output_type": "execute_result"
    }
   ],
   "source": [
    "df.isnull().any()"
   ]
  },
  {
   "cell_type": "code",
   "execution_count": 6,
   "id": "868ac1b2",
   "metadata": {},
   "outputs": [
    {
     "data": {
      "text/html": [
       "<div>\n",
       "<style scoped>\n",
       "    .dataframe tbody tr th:only-of-type {\n",
       "        vertical-align: middle;\n",
       "    }\n",
       "\n",
       "    .dataframe tbody tr th {\n",
       "        vertical-align: top;\n",
       "    }\n",
       "\n",
       "    .dataframe thead th {\n",
       "        text-align: right;\n",
       "    }\n",
       "</style>\n",
       "<table border=\"1\" class=\"dataframe\">\n",
       "  <thead>\n",
       "    <tr style=\"text-align: right;\">\n",
       "      <th></th>\n",
       "      <th>CustomerID</th>\n",
       "      <th>Gender</th>\n",
       "      <th>Age</th>\n",
       "      <th>Annual_Income</th>\n",
       "      <th>Spending_Score(1-100)</th>\n",
       "    </tr>\n",
       "  </thead>\n",
       "  <tbody>\n",
       "    <tr>\n",
       "      <th>0</th>\n",
       "      <td>1</td>\n",
       "      <td>Male</td>\n",
       "      <td>19</td>\n",
       "      <td>15</td>\n",
       "      <td>39</td>\n",
       "    </tr>\n",
       "    <tr>\n",
       "      <th>1</th>\n",
       "      <td>2</td>\n",
       "      <td>Male</td>\n",
       "      <td>21</td>\n",
       "      <td>15</td>\n",
       "      <td>81</td>\n",
       "    </tr>\n",
       "    <tr>\n",
       "      <th>2</th>\n",
       "      <td>3</td>\n",
       "      <td>Female</td>\n",
       "      <td>20</td>\n",
       "      <td>16</td>\n",
       "      <td>6</td>\n",
       "    </tr>\n",
       "    <tr>\n",
       "      <th>3</th>\n",
       "      <td>4</td>\n",
       "      <td>Female</td>\n",
       "      <td>23</td>\n",
       "      <td>16</td>\n",
       "      <td>77</td>\n",
       "    </tr>\n",
       "    <tr>\n",
       "      <th>4</th>\n",
       "      <td>5</td>\n",
       "      <td>Female</td>\n",
       "      <td>31</td>\n",
       "      <td>17</td>\n",
       "      <td>40</td>\n",
       "    </tr>\n",
       "  </tbody>\n",
       "</table>\n",
       "</div>"
      ],
      "text/plain": [
       "   CustomerID  Gender  Age  Annual_Income  Spending_Score(1-100)\n",
       "0           1    Male   19             15                     39\n",
       "1           2    Male   21             15                     81\n",
       "2           3  Female   20             16                      6\n",
       "3           4  Female   23             16                     77\n",
       "4           5  Female   31             17                     40"
      ]
     },
     "execution_count": 6,
     "metadata": {},
     "output_type": "execute_result"
    }
   ],
   "source": [
    "df.head()"
   ]
  },
  {
   "cell_type": "markdown",
   "id": "225adafa",
   "metadata": {},
   "source": [
    "## Outliers Detection"
   ]
  },
  {
   "cell_type": "code",
   "execution_count": 7,
   "id": "f62da351",
   "metadata": {},
   "outputs": [
    {
     "data": {
      "text/plain": [
       "<Axes: >"
      ]
     },
     "execution_count": 7,
     "metadata": {},
     "output_type": "execute_result"
    },
    {
     "data": {
      "image/png": "[encoded data removed]",
      "text/plain": [
       "<Figure size 640x480 with 1 Axes>"
      ]
     },
     "metadata": {},
     "output_type": "display_data"
    }
   ],
   "source": [
    "sns.boxplot(df)"
   ]
  },
  {
   "cell_type": "code",
   "execution_count": 8,
   "id": "3daa7dac",
   "metadata": {},
   "outputs": [
    {
     "data": {
      "text/plain": [
       "Index(['CustomerID', 'Gender', 'Age', 'Annual_Income',\n",
       "       'Spending_Score(1-100)'],\n",
       "      dtype='object')"
      ]
     },
     "execution_count": 8,
     "metadata": {},
     "output_type": "execute_result"
    }
   ],
   "source": [
    "df.columns"
   ]
  },
  {
   "cell_type": "code",
   "execution_count": 9,
   "id": "a379fa63",
   "metadata": {},
   "outputs": [
    {
     "data": {
      "text/plain": [
       "<Axes: >"
      ]
     },
     "execution_count": 9,
     "metadata": {},
     "output_type": "execute_result"
    },
    {
     "data": {
      "image/png": "[encoded data removed]",
      "text/plain": [
       "<Figure size 640x480 with 1 Axes>"
      ]
     },
     "metadata": {},
     "output_type": "display_data"
    }
   ],
   "source": [
    "sns.boxplot(df.Annual_Income)"
   ]
  },
  {
   "cell_type": "code",
   "execution_count": 10,
   "id": "9911511c",
   "metadata": {},
   "outputs": [
    {
     "data": {
      "text/plain": [
       "126.1099999999999"
      ]
     },
     "execution_count": 10,
     "metadata": {},
     "output_type": "execute_result"
    }
   ],
   "source": [
    "p99 = df.Annual_Income.quantile(0.99)\n",
    "p99"
   ]
  },
  {
   "cell_type": "code",
   "execution_count": 11,
   "id": "4477bb07",
   "metadata": {},
   "outputs": [],
   "source": [
    "df = df[df.Annual_Income<=p99]"
   ]
  },
  {
   "cell_type": "code",
   "execution_count": 12,
   "id": "513765ea",
   "metadata": {},
   "outputs": [
    {
     "data": {
      "text/plain": [
       "<Axes: >"
      ]
     },
     "execution_count": 12,
     "metadata": {},
     "output_type": "execute_result"
    },
    {
     "data": {
      "image/png": "[encoded data removed]",
      "text/plain": [
       "<Figure size 640x480 with 1 Axes>"
      ]
     },
     "metadata": {},
     "output_type": "display_data"
    }
   ],
   "source": [
    "sns.boxplot(df.Annual_Income)"
   ]
  },
  {
   "cell_type": "code",
   "execution_count": 13,
   "id": "37f82f42",
   "metadata": {},
   "outputs": [
    {
     "data": {
      "text/plain": [
       "CustomerID               False\n",
       "Gender                   False\n",
       "Age                      False\n",
       "Annual_Income            False\n",
       "Spending_Score(1-100)    False\n",
       "dtype: bool"
      ]
     },
     "execution_count": 13,
     "metadata": {},
     "output_type": "execute_result"
    }
   ],
   "source": [
    "df.isnull().any()"
   ]
  },
  {
   "cell_type": "code",
   "execution_count": 14,
   "id": "6e7f65ff",
   "metadata": {},
   "outputs": [
    {
     "data": {
      "text/plain": [
       "CustomerID               0\n",
       "Gender                   0\n",
       "Age                      0\n",
       "Annual_Income            0\n",
       "Spending_Score(1-100)    0\n",
       "dtype: int64"
      ]
     },
     "execution_count": 14,
     "metadata": {},
     "output_type": "execute_result"
    }
   ],
   "source": [
    "df.isnull().sum()"
   ]
  },
  {
   "cell_type": "markdown",
   "id": "ae7623d0",
   "metadata": {},
   "source": [
    "## Label Encoding"
   ]
  },
  {
   "cell_type": "code",
   "execution_count": 15,
   "id": "a5fd81c5",
   "metadata": {},
   "outputs": [],
   "source": [
    "from sklearn.preprocessing import LabelEncoder"
   ]
  },
  {
   "cell_type": "code",
   "execution_count": 16,
   "id": "9cb50284",
   "metadata": {},
   "outputs": [],
   "source": [
    "le = LabelEncoder()"
   ]
  },
  {
   "cell_type": "code",
   "execution_count": 17,
   "id": "6d28e1a7",
   "metadata": {},
   "outputs": [],
   "source": [
    "df.Gender = le.fit_transform(df.Gender)"
   ]
  },
  {
   "cell_type": "code",
   "execution_count": 18,
   "id": "3a70f229",
   "metadata": {},
   "outputs": [
    {
     "data": {
      "text/html": [
       "<div>\n",
       "<style scoped>\n",
       "    .dataframe tbody tr th:only-of-type {\n",
       "        vertical-align: middle;\n",
       "    }\n",
       "\n",
       "    .dataframe tbody tr th {\n",
       "        vertical-align: top;\n",
       "    }\n",
       "\n",
       "    .dataframe thead th {\n",
       "        text-align: right;\n",
       "    }\n",
       "</style>\n",
       "<table border=\"1\" class=\"dataframe\">\n",
       "  <thead>\n",
       "    <tr style=\"text-align: right;\">\n",
       "      <th></th>\n",
       "      <th>CustomerID</th>\n",
       "      <th>Gender</th>\n",
       "      <th>Age</th>\n",
       "      <th>Annual_Income</th>\n",
       "      <th>Spending_Score(1-100)</th>\n",
       "    </tr>\n",
       "  </thead>\n",
       "  <tbody>\n",
       "    <tr>\n",
       "      <th>0</th>\n",
       "      <td>1</td>\n",
       "      <td>1</td>\n",
       "      <td>19</td>\n",
       "      <td>15</td>\n",
       "      <td>39</td>\n",
       "    </tr>\n",
       "    <tr>\n",
       "      <th>1</th>\n",
       "      <td>2</td>\n",
       "      <td>1</td>\n",
       "      <td>21</td>\n",
       "      <td>15</td>\n",
       "      <td>81</td>\n",
       "    </tr>\n",
       "    <tr>\n",
       "      <th>2</th>\n",
       "      <td>3</td>\n",
       "      <td>0</td>\n",
       "      <td>20</td>\n",
       "      <td>16</td>\n",
       "      <td>6</td>\n",
       "    </tr>\n",
       "    <tr>\n",
       "      <th>3</th>\n",
       "      <td>4</td>\n",
       "      <td>0</td>\n",
       "      <td>23</td>\n",
       "      <td>16</td>\n",
       "      <td>77</td>\n",
       "    </tr>\n",
       "    <tr>\n",
       "      <th>4</th>\n",
       "      <td>5</td>\n",
       "      <td>0</td>\n",
       "      <td>31</td>\n",
       "      <td>17</td>\n",
       "      <td>40</td>\n",
       "    </tr>\n",
       "  </tbody>\n",
       "</table>\n",
       "</div>"
      ],
      "text/plain": [
       "   CustomerID  Gender  Age  Annual_Income  Spending_Score(1-100)\n",
       "0           1       1   19             15                     39\n",
       "1           2       1   21             15                     81\n",
       "2           3       0   20             16                      6\n",
       "3           4       0   23             16                     77\n",
       "4           5       0   31             17                     40"
      ]
     },
     "execution_count": 18,
     "metadata": {},
     "output_type": "execute_result"
    }
   ],
   "source": [
    "df.head()"
   ]
  },
  {
   "cell_type": "code",
   "execution_count": 19,
   "id": "6c10bc6e",
   "metadata": {},
   "outputs": [
    {
     "name": "stdout",
     "output_type": "stream",
     "text": [
      "<class 'pandas.core.frame.DataFrame'>\n",
      "Index: 198 entries, 0 to 197\n",
      "Data columns (total 5 columns):\n",
      " #   Column                 Non-Null Count  Dtype\n",
      "---  ------                 --------------  -----\n",
      " 0   CustomerID             198 non-null    int64\n",
      " 1   Gender                 198 non-null    int32\n",
      " 2   Age                    198 non-null    int64\n",
      " 3   Annual_Income          198 non-null    int64\n",
      " 4   Spending_Score(1-100)  198 non-null    int64\n",
      "dtypes: int32(1), int64(4)\n",
      "memory usage: 16.6 KB\n"
     ]
    }
   ],
   "source": [
    "df.info()"
   ]
  },
  {
   "cell_type": "markdown",
   "id": "4751010a",
   "metadata": {},
   "source": [
    "## Unsupervised K-Means Clustering"
   ]
  },
  {
   "cell_type": "code",
   "execution_count": 20,
   "id": "a7835ba6",
   "metadata": {},
   "outputs": [],
   "source": [
    "from sklearn.cluster import KMeans"
   ]
  },
  {
   "cell_type": "code",
   "execution_count": 21,
   "id": "991509eb",
   "metadata": {},
   "outputs": [
    {
     "name": "stderr",
     "output_type": "stream",
     "text": [
      "E:\\Software\\Anaconda\\New\\envs\\VITB\\Lib\\site-packages\\sklearn\\cluster\\_kmeans.py:870: FutureWarning: The default value of `n_init` will change from 10 to 'auto' in 1.4. Set the value of `n_init` explicitly to suppress the warning\n",
      "  warnings.warn(\n",
      "E:\\Software\\Anaconda\\New\\envs\\VITB\\Lib\\site-packages\\sklearn\\cluster\\_kmeans.py:1382: UserWarning: KMeans is known to have a memory leak on Windows with MKL, when there are less chunks than available threads. You can avoid it by setting the environment variable OMP_NUM_THREADS=1.\n",
      "  warnings.warn(\n",
      "E:\\Software\\Anaconda\\New\\envs\\VITB\\Lib\\site-packages\\sklearn\\cluster\\_kmeans.py:870: FutureWarning: The default value of `n_init` will change from 10 to 'auto' in 1.4. Set the value of `n_init` explicitly to suppress the warning\n",
      "  warnings.warn(\n",
      "E:\\Software\\Anaconda\\New\\envs\\VITB\\Lib\\site-packages\\sklearn\\cluster\\_kmeans.py:1382: UserWarning: KMeans is known to have a memory leak on Windows with MKL, when there are less chunks than available threads. You can avoid it by setting the environment variable OMP_NUM_THREADS=1.\n",
      "  warnings.warn(\n",
      "E:\\Software\\Anaconda\\New\\envs\\VITB\\Lib\\site-packages\\sklearn\\cluster\\_kmeans.py:870: FutureWarning: The default value of `n_init` will change from 10 to 'auto' in 1.4. Set the value of `n_init` explicitly to suppress the warning\n",
      "  warnings.warn(\n",
      "E:\\Software\\Anaconda\\New\\envs\\VITB\\Lib\\site-packages\\sklearn\\cluster\\_kmeans.py:1382: UserWarning: KMeans is known to have a memory leak on Windows with MKL, when there are less chunks than available threads. You can avoid it by setting the environment variable OMP_NUM_THREADS=1.\n",
      "  warnings.warn(\n",
      "E:\\Software\\Anaconda\\New\\envs\\VITB\\Lib\\site-packages\\sklearn\\cluster\\_kmeans.py:870: FutureWarning: The default value of `n_init` will change from 10 to 'auto' in 1.4. Set the value of `n_init` explicitly to suppress the warning\n",
      "  warnings.warn(\n",
      "E:\\Software\\Anaconda\\New\\envs\\VITB\\Lib\\site-packages\\sklearn\\cluster\\_kmeans.py:1382: UserWarning: KMeans is known to have a memory leak on Windows with MKL, when there are less chunks than available threads. You can avoid it by setting the environment variable OMP_NUM_THREADS=1.\n",
      "  warnings.warn(\n",
      "E:\\Software\\Anaconda\\New\\envs\\VITB\\Lib\\site-packages\\sklearn\\cluster\\_kmeans.py:870: FutureWarning: The default value of `n_init` will change from 10 to 'auto' in 1.4. Set the value of `n_init` explicitly to suppress the warning\n",
      "  warnings.warn(\n",
      "E:\\Software\\Anaconda\\New\\envs\\VITB\\Lib\\site-packages\\sklearn\\cluster\\_kmeans.py:1382: UserWarning: KMeans is known to have a memory leak on Windows with MKL, when there are less chunks than available threads. You can avoid it by setting the environment variable OMP_NUM_THREADS=1.\n",
      "  warnings.warn(\n",
      "E:\\Software\\Anaconda\\New\\envs\\VITB\\Lib\\site-packages\\sklearn\\cluster\\_kmeans.py:870: FutureWarning: The default value of `n_init` will change from 10 to 'auto' in 1.4. Set the value of `n_init` explicitly to suppress the warning\n",
      "  warnings.warn(\n",
      "E:\\Software\\Anaconda\\New\\envs\\VITB\\Lib\\site-packages\\sklearn\\cluster\\_kmeans.py:1382: UserWarning: KMeans is known to have a memory leak on Windows with MKL, when there are less chunks than available threads. You can avoid it by setting the environment variable OMP_NUM_THREADS=1.\n",
      "  warnings.warn(\n",
      "E:\\Software\\Anaconda\\New\\envs\\VITB\\Lib\\site-packages\\sklearn\\cluster\\_kmeans.py:870: FutureWarning: The default value of `n_init` will change from 10 to 'auto' in 1.4. Set the value of `n_init` explicitly to suppress the warning\n",
      "  warnings.warn(\n",
      "E:\\Software\\Anaconda\\New\\envs\\VITB\\Lib\\site-packages\\sklearn\\cluster\\_kmeans.py:1382: UserWarning: KMeans is known to have a memory leak on Windows with MKL, when there are less chunks than available threads. You can avoid it by setting the environment variable OMP_NUM_THREADS=1.\n",
      "  warnings.warn(\n",
      "E:\\Software\\Anaconda\\New\\envs\\VITB\\Lib\\site-packages\\sklearn\\cluster\\_kmeans.py:870: FutureWarning: The default value of `n_init` will change from 10 to 'auto' in 1.4. Set the value of `n_init` explicitly to suppress the warning\n",
      "  warnings.warn(\n",
      "E:\\Software\\Anaconda\\New\\envs\\VITB\\Lib\\site-packages\\sklearn\\cluster\\_kmeans.py:1382: UserWarning: KMeans is known to have a memory leak on Windows with MKL, when there are less chunks than available threads. You can avoid it by setting the environment variable OMP_NUM_THREADS=1.\n",
      "  warnings.warn(\n",
      "E:\\Software\\Anaconda\\New\\envs\\VITB\\Lib\\site-packages\\sklearn\\cluster\\_kmeans.py:870: FutureWarning: The default value of `n_init` will change from 10 to 'auto' in 1.4. Set the value of `n_init` explicitly to suppress the warning\n",
      "  warnings.warn(\n",
      "E:\\Software\\Anaconda\\New\\envs\\VITB\\Lib\\site-packages\\sklearn\\cluster\\_kmeans.py:1382: UserWarning: KMeans is known to have a memory leak on Windows with MKL, when there are less chunks than available threads. You can avoid it by setting the environment variable OMP_NUM_THREADS=1.\n",
      "  warnings.warn(\n",
      "E:\\Software\\Anaconda\\New\\envs\\VITB\\Lib\\site-packages\\sklearn\\cluster\\_kmeans.py:870: FutureWarning: The default value of `n_init` will change from 10 to 'auto' in 1.4. Set the value of `n_init` explicitly to suppress the warning\n",
      "  warnings.warn(\n",
      "E:\\Software\\Anaconda\\New\\envs\\VITB\\Lib\\site-packages\\sklearn\\cluster\\_kmeans.py:1382: UserWarning: KMeans is known to have a memory leak on Windows with MKL, when there are less chunks than available threads. You can avoid it by setting the environment variable OMP_NUM_THREADS=1.\n",
      "  warnings.warn(\n"
     ]
    }
   ],
   "source": [
    "error = []\n",
    "for i in range(1,11):\n",
    "    kmeans = cluster.KMeans(n_clusters=i, init = 'k-means++', random_state=0)\n",
    "    kmeans.fit(df)\n",
    "    error.append(kmeans.inertia_)"
   ]
  },
  {
   "cell_type": "code",
   "execution_count": 22,
   "id": "039552ab",
   "metadata": {},
   "outputs": [
    {
     "data": {
      "text/plain": [
       "[941667.5656565656,\n",
       " 373539.5555555555,\n",
       " 262201.95437100215,\n",
       " 187479.30279164785,\n",
       " 149699.07571152455,\n",
       " 115362.10489911566,\n",
       " 97739.71631016044,\n",
       " 82429.1906672447,\n",
       " 73237.06359420918,\n",
       " 65297.54664307828]"
      ]
     },
     "execution_count": 22,
     "metadata": {},
     "output_type": "execute_result"
    }
   ],
   "source": [
    "error"
   ]
  },
  {
   "cell_type": "code",
   "execution_count": 23,
   "id": "70057218",
   "metadata": {},
   "outputs": [
    {
     "data": {
      "image/png": "[encoded data removed]",
      "text/plain": [
       "<Figure size 640x480 with 1 Axes>"
      ]
     },
     "metadata": {},
     "output_type": "display_data"
    }
   ],
   "source": [
    "plt.plot(range(1,11),error)\n",
    "plt.title('Elbow method')\n",
    "plt.xlabel('number of clusters')\n",
    "plt.ylabel('error')\n",
    "plt.show()"
   ]
  },
  {
   "cell_type": "code",
   "execution_count": 24,
   "id": "06199ca8",
   "metadata": {},
   "outputs": [],
   "source": [
    "km_model = cluster.KMeans(n_clusters=3,init = 'k-means++',random_state=0)"
   ]
  },
  {
   "cell_type": "code",
   "execution_count": 25,
   "id": "44ef527b",
   "metadata": {},
   "outputs": [
    {
     "name": "stderr",
     "output_type": "stream",
     "text": [
      "E:\\Software\\Anaconda\\New\\envs\\VITB\\Lib\\site-packages\\sklearn\\cluster\\_kmeans.py:870: FutureWarning: The default value of `n_init` will change from 10 to 'auto' in 1.4. Set the value of `n_init` explicitly to suppress the warning\n",
      "  warnings.warn(\n",
      "E:\\Software\\Anaconda\\New\\envs\\VITB\\Lib\\site-packages\\sklearn\\cluster\\_kmeans.py:1382: UserWarning: KMeans is known to have a memory leak on Windows with MKL, when there are less chunks than available threads. You can avoid it by setting the environment variable OMP_NUM_THREADS=1.\n",
      "  warnings.warn(\n"
     ]
    },
    {
     "data": {
      "text/html": [
       "<style>#sk-container-id-1 {color: black;background-color: white;}#sk-container-id-1 pre{padding: 0;}#sk-container-id-1 div.sk-toggleable {background-color: white;}#sk-container-id-1 label.sk-toggleable__label {cursor: pointer;display: block;width: 100%;margin-bottom: 0;padding: 0.3em;box-sizing: border-box;text-align: center;}#sk-container-id-1 label.sk-toggleable__label-arrow:before {content: \"▸\";float: left;margin-right: 0.25em;color: #696969;}#sk-container-id-1 label.sk-toggleable__label-arrow:hover:before {color: black;}#sk-container-id-1 div.sk-estimator:hover label.sk-toggleable__label-arrow:before {color: black;}#sk-container-id-1 div.sk-toggleable__content {max-height: 0;max-width: 0;overflow: hidden;text-align: left;background-color: #f0f8ff;}#sk-container-id-1 div.sk-toggleable__content pre {margin: 0.2em;color: black;border-radius: 0.25em;background-color: #f0f8ff;}#sk-container-id-1 input.sk-toggleable__control:checked~div.sk-toggleable__content {max-height: 200px;max-width: 100%;overflow: auto;}#sk-container-id-1 input.sk-toggleable__control:checked~label.sk-toggleable__label-arrow:before {content: \"▾\";}#sk-container-id-1 div.sk-estimator input.sk-toggleable__control:checked~label.sk-toggleable__label {background-color: #d4ebff;}#sk-container-id-1 div.sk-label input.sk-toggleable__control:checked~label.sk-toggleable__label {background-color: #d4ebff;}#sk-container-id-1 input.sk-hidden--visually {border: 0;clip: rect(1px 1px 1px 1px);clip: rect(1px, 1px, 1px, 1px);height: 1px;margin: -1px;overflow: hidden;padding: 0;position: absolute;width: 1px;}#sk-container-id-1 div.sk-estimator {font-family: monospace;background-color: #f0f8ff;border: 1px dotted black;border-radius: 0.25em;box-sizing: border-box;margin-bottom: 0.5em;}#sk-container-id-1 div.sk-estimator:hover {background-color: #d4ebff;}#sk-container-id-1 div.sk-parallel-item::after {content: \"\";width: 100%;border-bottom: 1px solid gray;flex-grow: 1;}#sk-container-id-1 div.sk-label:hover label.sk-toggleable__label {background-color: #d4ebff;}#sk-container-id-1 div.sk-serial::before {content: \"\";position: absolute;border-left: 1px solid gray;box-sizing: border-box;top: 0;bottom: 0;left: 50%;z-index: 0;}#sk-container-id-1 div.sk-serial {display: flex;flex-direction: column;align-items: center;background-color: white;padding-right: 0.2em;padding-left: 0.2em;position: relative;}#sk-container-id-1 div.sk-item {position: relative;z-index: 1;}#sk-container-id-1 div.sk-parallel {display: flex;align-items: stretch;justify-content: center;background-color: white;position: relative;}#sk-container-id-1 div.sk-item::before, #sk-container-id-1 div.sk-parallel-item::before {content: \"\";position: absolute;border-left: 1px solid gray;box-sizing: border-box;top: 0;bottom: 0;left: 50%;z-index: -1;}#sk-container-id-1 div.sk-parallel-item {display: flex;flex-direction: column;z-index: 1;position: relative;background-color: white;}#sk-container-id-1 div.sk-parallel-item:first-child::after {align-self: flex-end;width: 50%;}#sk-container-id-1 div.sk-parallel-item:last-child::after {align-self: flex-start;width: 50%;}#sk-container-id-1 div.sk-parallel-item:only-child::after {width: 0;}#sk-container-id-1 div.sk-dashed-wrapped {border: 1px dashed gray;margin: 0 0.4em 0.5em 0.4em;box-sizing: border-box;padding-bottom: 0.4em;background-color: white;}#sk-container-id-1 div.sk-label label {font-family: monospace;font-weight: bold;display: inline-block;line-height: 1.2em;}#sk-container-id-1 div.sk-label-container {text-align: center;}#sk-container-id-1 div.sk-container {/* jupyter's `normalize.less` sets `[hidden] { display: none; }` but bootstrap.min.css set `[hidden] { display: none !important; }` so we also need the `!important` here to be able to override the default hidden behavior on the sphinx rendered scikit-learn.org. See: https://github.com/scikit-learn/scikit-learn/issues/21755 */display: inline-block !important;position: relative;}#sk-container-id-1 div.sk-text-repr-fallback {display: none;}</style><div id=\"sk-container-id-1\" class=\"sk-top-container\"><div class=\"sk-text-repr-fallback\"><pre>KMeans(n_clusters=3, random_state=0)</pre><b>In a Jupyter environment, please rerun this cell to show the HTML representation or trust the notebook. <br />On GitHub, the HTML representation is unable to render, please try loading this page with nbviewer.org.</b></div><div class=\"sk-container\" hidden><div class=\"sk-item\"><div class=\"sk-estimator sk-toggleable\"><input class=\"sk-toggleable__control sk-hidden--visually\" id=\"sk-estimator-id-1\" type=\"checkbox\" checked><label for=\"sk-estimator-id-1\" class=\"sk-toggleable__label sk-toggleable__label-arrow\">KMeans</label><div class=\"sk-toggleable__content\"><pre>KMeans(n_clusters=3, random_state=0)</pre></div></div></div></div></div>"
      ],
      "text/plain": [
       "KMeans(n_clusters=3, random_state=0)"
      ]
     },
     "execution_count": 25,
     "metadata": {},
     "output_type": "execute_result"
    }
   ],
   "source": [
    "km_model.fit(df)"
   ]
  },
  {
   "cell_type": "code",
   "execution_count": 26,
   "id": "91f904e2",
   "metadata": {},
   "outputs": [
    {
     "data": {
      "text/plain": [
       "array([2, 2, 2, 2, 2, 2, 2, 2, 2, 2, 2, 2, 2, 2, 2, 2, 2, 2, 2, 2, 2, 2,\n",
       "       2, 2, 2, 2, 2, 2, 2, 2, 2, 2, 2, 2, 2, 2, 2, 2, 2, 2, 2, 2, 2, 2,\n",
       "       2, 2, 2, 2, 2, 2, 2, 2, 2, 2, 2, 2, 2, 2, 2, 2, 1, 2, 1, 1, 1, 1,\n",
       "       1, 1, 1, 1, 1, 1, 1, 1, 1, 1, 1, 1, 1, 1, 1, 1, 1, 1, 1, 1, 1, 1,\n",
       "       1, 1, 1, 1, 1, 1, 1, 1, 1, 1, 1, 1, 1, 1, 1, 1, 1, 1, 1, 1, 1, 1,\n",
       "       1, 1, 1, 1, 1, 1, 1, 1, 1, 1, 1, 1, 1, 1, 1, 1, 1, 1, 1, 1, 1, 0,\n",
       "       0, 0, 0, 0, 0, 0, 0, 0, 0, 0, 0, 0, 0, 0, 0, 0, 0, 0, 0, 0, 0, 0,\n",
       "       0, 0, 0, 0, 0, 0, 0, 0, 0, 0, 0, 0, 0, 0, 0, 0, 0, 0, 0, 0, 0, 0,\n",
       "       0, 0, 0, 0, 0, 0, 0, 0, 0, 0, 0, 0, 0, 0, 0, 0, 0, 0, 0, 0, 0, 0])"
      ]
     },
     "execution_count": 26,
     "metadata": {},
     "output_type": "execute_result"
    }
   ],
   "source": [
    "pred = km_model.predict(df)\n",
    "pred"
   ]
  },
  {
   "cell_type": "markdown",
   "id": "4547abaf",
   "metadata": {},
   "source": [
    "## Scaling Data"
   ]
  },
  {
   "cell_type": "code",
   "execution_count": 27,
   "id": "4f915ef8",
   "metadata": {},
   "outputs": [],
   "source": [
    "from sklearn.preprocessing import MinMaxScaler\n",
    "from sklearn.compose import ColumnTransformer\n",
    "scale =MinMaxScaler()"
   ]
  },
  {
   "cell_type": "code",
   "execution_count": 28,
   "id": "e421ee2d",
   "metadata": {},
   "outputs": [],
   "source": [
    "cols_to_scale = ['Annual_Income', 'Spending_Score(1-100)']"
   ]
  },
  {
   "cell_type": "code",
   "execution_count": 29,
   "id": "37481c70",
   "metadata": {},
   "outputs": [],
   "source": [
    "ct = ColumnTransformer(\n",
    "    transformers=[\n",
    "        ('MinMaxScaler', MinMaxScaler(), cols_to_scale)\n",
    "    ], remainder='passthrough'\n",
    ")"
   ]
  },
  {
   "cell_type": "code",
   "execution_count": 30,
   "id": "68e1258b",
   "metadata": {},
   "outputs": [],
   "source": [
    "df_scaled = ct.fit_transform(df)"
   ]
  },
  {
   "cell_type": "code",
   "execution_count": 31,
   "id": "902d9f38",
   "metadata": {},
   "outputs": [
    {
     "data": {
      "text/plain": [
       "array([[0.00000000e+00, 3.87755102e-01, 1.00000000e+00, 1.00000000e+00,\n",
       "        1.90000000e+01],\n",
       "       [0.00000000e+00, 8.16326531e-01, 2.00000000e+00, 1.00000000e+00,\n",
       "        2.10000000e+01],\n",
       "       [9.00900901e-03, 5.10204082e-02, 3.00000000e+00, 0.00000000e+00,\n",
       "        2.00000000e+01],\n",
       "       [9.00900901e-03, 7.75510204e-01, 4.00000000e+00, 0.00000000e+00,\n",
       "        2.30000000e+01],\n",
       "       [1.80180180e-02, 3.97959184e-01, 5.00000000e+00, 0.00000000e+00,\n",
       "        3.10000000e+01],\n",
       "       [1.80180180e-02, 7.65306122e-01, 6.00000000e+00, 0.00000000e+00,\n",
       "        2.20000000e+01],\n",
       "       [2.70270270e-02, 5.10204082e-02, 7.00000000e+00, 0.00000000e+00,\n",
       "        3.50000000e+01],\n",
       "       [2.70270270e-02, 9.48979592e-01, 8.00000000e+00, 0.00000000e+00,\n",
       "        2.30000000e+01],\n",
       "       [3.60360360e-02, 2.04081633e-02, 9.00000000e+00, 1.00000000e+00,\n",
       "        6.40000000e+01],\n",
       "       [3.60360360e-02, 7.24489796e-01, 1.00000000e+01, 0.00000000e+00,\n",
       "        3.00000000e+01],\n",
       "       [3.60360360e-02, 1.32653061e-01, 1.10000000e+01, 1.00000000e+00,\n",
       "        6.70000000e+01],\n",
       "       [3.60360360e-02, 1.00000000e+00, 1.20000000e+01, 0.00000000e+00,\n",
       "        3.50000000e+01],\n",
       "       [4.50450450e-02, 1.42857143e-01, 1.30000000e+01, 0.00000000e+00,\n",
       "        5.80000000e+01],\n",
       "       [4.50450450e-02, 7.75510204e-01, 1.40000000e+01, 0.00000000e+00,\n",
       "        2.40000000e+01],\n",
       "       [4.50450450e-02, 1.22448980e-01, 1.50000000e+01, 1.00000000e+00,\n",
       "        3.70000000e+01],\n",
       "       [4.50450450e-02, 7.95918367e-01, 1.60000000e+01, 1.00000000e+00,\n",
       "        2.20000000e+01],\n",
       "       [5.40540541e-02, 3.46938776e-01, 1.70000000e+01, 0.00000000e+00,\n",
       "        3.50000000e+01],\n",
       "       [5.40540541e-02, 6.63265306e-01, 1.80000000e+01, 1.00000000e+00,\n",
       "        2.00000000e+01],\n",
       "       [7.20720721e-02, 2.85714286e-01, 1.90000000e+01, 1.00000000e+00,\n",
       "        5.20000000e+01],\n",
       "       [7.20720721e-02, 9.89795918e-01, 2.00000000e+01, 0.00000000e+00,\n",
       "        3.50000000e+01],\n",
       "       [8.10810811e-02, 3.46938776e-01, 2.10000000e+01, 1.00000000e+00,\n",
       "        3.50000000e+01],\n",
       "       [8.10810811e-02, 7.34693878e-01, 2.20000000e+01, 1.00000000e+00,\n",
       "        2.50000000e+01],\n",
       "       [9.00900901e-02, 4.08163265e-02, 2.30000000e+01, 0.00000000e+00,\n",
       "        4.60000000e+01],\n",
       "       [9.00900901e-02, 7.34693878e-01, 2.40000000e+01, 1.00000000e+00,\n",
       "        3.10000000e+01],\n",
       "       [1.17117117e-01, 1.32653061e-01, 2.50000000e+01, 0.00000000e+00,\n",
       "        5.40000000e+01],\n",
       "       [1.17117117e-01, 8.26530612e-01, 2.60000000e+01, 1.00000000e+00,\n",
       "        2.90000000e+01],\n",
       "       [1.17117117e-01, 3.16326531e-01, 2.70000000e+01, 0.00000000e+00,\n",
       "        4.50000000e+01],\n",
       "       [1.17117117e-01, 6.12244898e-01, 2.80000000e+01, 1.00000000e+00,\n",
       "        3.50000000e+01],\n",
       "       [1.26126126e-01, 3.06122449e-01, 2.90000000e+01, 0.00000000e+00,\n",
       "        4.00000000e+01],\n",
       "       [1.26126126e-01, 8.77551020e-01, 3.00000000e+01, 0.00000000e+00,\n",
       "        2.30000000e+01],\n",
       "       [1.35135135e-01, 3.06122449e-02, 3.10000000e+01, 1.00000000e+00,\n",
       "        6.00000000e+01],\n",
       "       [1.35135135e-01, 7.34693878e-01, 3.20000000e+01, 0.00000000e+00,\n",
       "        2.10000000e+01],\n",
       "       [1.62162162e-01, 3.06122449e-02, 3.30000000e+01, 1.00000000e+00,\n",
       "        5.30000000e+01],\n",
       "       [1.62162162e-01, 9.28571429e-01, 3.40000000e+01, 1.00000000e+00,\n",
       "        1.80000000e+01],\n",
       "       [1.62162162e-01, 1.32653061e-01, 3.50000000e+01, 0.00000000e+00,\n",
       "        4.90000000e+01],\n",
       "       [1.62162162e-01, 8.16326531e-01, 3.60000000e+01, 0.00000000e+00,\n",
       "        2.10000000e+01],\n",
       "       [1.71171171e-01, 1.63265306e-01, 3.70000000e+01, 0.00000000e+00,\n",
       "        4.20000000e+01],\n",
       "       [1.71171171e-01, 7.34693878e-01, 3.80000000e+01, 0.00000000e+00,\n",
       "        3.00000000e+01],\n",
       "       [1.98198198e-01, 2.55102041e-01, 3.90000000e+01, 0.00000000e+00,\n",
       "        3.60000000e+01],\n",
       "       [1.98198198e-01, 7.55102041e-01, 4.00000000e+01, 0.00000000e+00,\n",
       "        2.00000000e+01],\n",
       "       [2.07207207e-01, 3.46938776e-01, 4.10000000e+01, 0.00000000e+00,\n",
       "        6.50000000e+01],\n",
       "       [2.07207207e-01, 9.28571429e-01, 4.20000000e+01, 1.00000000e+00,\n",
       "        2.40000000e+01],\n",
       "       [2.16216216e-01, 3.57142857e-01, 4.30000000e+01, 1.00000000e+00,\n",
       "        4.80000000e+01],\n",
       "       [2.16216216e-01, 6.12244898e-01, 4.40000000e+01, 0.00000000e+00,\n",
       "        3.10000000e+01],\n",
       "       [2.16216216e-01, 2.75510204e-01, 4.50000000e+01, 0.00000000e+00,\n",
       "        4.90000000e+01],\n",
       "       [2.16216216e-01, 6.53061224e-01, 4.60000000e+01, 0.00000000e+00,\n",
       "        2.40000000e+01],\n",
       "       [2.25225225e-01, 5.51020408e-01, 4.70000000e+01, 0.00000000e+00,\n",
       "        5.00000000e+01],\n",
       "       [2.25225225e-01, 4.69387755e-01, 4.80000000e+01, 0.00000000e+00,\n",
       "        2.70000000e+01],\n",
       "       [2.25225225e-01, 4.18367347e-01, 4.90000000e+01, 0.00000000e+00,\n",
       "        2.90000000e+01],\n",
       "       [2.25225225e-01, 4.18367347e-01, 5.00000000e+01, 0.00000000e+00,\n",
       "        3.10000000e+01],\n",
       "       [2.43243243e-01, 5.20408163e-01, 5.10000000e+01, 0.00000000e+00,\n",
       "        4.90000000e+01],\n",
       "       [2.43243243e-01, 6.02040816e-01, 5.20000000e+01, 1.00000000e+00,\n",
       "        3.30000000e+01],\n",
       "       [2.52252252e-01, 5.40816327e-01, 5.30000000e+01, 0.00000000e+00,\n",
       "        3.10000000e+01],\n",
       "       [2.52252252e-01, 6.02040816e-01, 5.40000000e+01, 1.00000000e+00,\n",
       "        5.90000000e+01],\n",
       "       [2.52252252e-01, 4.48979592e-01, 5.50000000e+01, 0.00000000e+00,\n",
       "        5.00000000e+01],\n",
       "       [2.52252252e-01, 4.08163265e-01, 5.60000000e+01, 1.00000000e+00,\n",
       "        4.70000000e+01],\n",
       "       [2.61261261e-01, 5.00000000e-01, 5.70000000e+01, 0.00000000e+00,\n",
       "        5.10000000e+01],\n",
       "       [2.61261261e-01, 4.59183673e-01, 5.80000000e+01, 1.00000000e+00,\n",
       "        6.90000000e+01],\n",
       "       [2.79279279e-01, 5.10204082e-01, 5.90000000e+01, 0.00000000e+00,\n",
       "        2.70000000e+01],\n",
       "       [2.79279279e-01, 4.59183673e-01, 6.00000000e+01, 1.00000000e+00,\n",
       "        5.30000000e+01],\n",
       "       [2.79279279e-01, 5.61224490e-01, 6.10000000e+01, 1.00000000e+00,\n",
       "        7.00000000e+01],\n",
       "       [2.79279279e-01, 5.51020408e-01, 6.20000000e+01, 1.00000000e+00,\n",
       "        1.90000000e+01],\n",
       "       [2.88288288e-01, 5.20408163e-01, 6.30000000e+01, 0.00000000e+00,\n",
       "        6.70000000e+01],\n",
       "       [2.88288288e-01, 5.91836735e-01, 6.40000000e+01, 0.00000000e+00,\n",
       "        5.40000000e+01],\n",
       "       [2.97297297e-01, 5.10204082e-01, 6.50000000e+01, 1.00000000e+00,\n",
       "        6.30000000e+01],\n",
       "       [2.97297297e-01, 5.91836735e-01, 6.60000000e+01, 1.00000000e+00,\n",
       "        1.80000000e+01],\n",
       "       [2.97297297e-01, 5.00000000e-01, 6.70000000e+01, 0.00000000e+00,\n",
       "        4.30000000e+01],\n",
       "       [2.97297297e-01, 4.79591837e-01, 6.80000000e+01, 0.00000000e+00,\n",
       "        6.80000000e+01],\n",
       "       [2.97297297e-01, 5.91836735e-01, 6.90000000e+01, 1.00000000e+00,\n",
       "        1.90000000e+01],\n",
       "       [2.97297297e-01, 4.69387755e-01, 7.00000000e+01, 0.00000000e+00,\n",
       "        3.20000000e+01],\n",
       "       [3.06306306e-01, 5.51020408e-01, 7.10000000e+01, 1.00000000e+00,\n",
       "        7.00000000e+01],\n",
       "       [3.06306306e-01, 4.18367347e-01, 7.20000000e+01, 0.00000000e+00,\n",
       "        4.70000000e+01],\n",
       "       [3.15315315e-01, 4.89795918e-01, 7.30000000e+01, 0.00000000e+00,\n",
       "        6.00000000e+01],\n",
       "       [3.15315315e-01, 5.61224490e-01, 7.40000000e+01, 0.00000000e+00,\n",
       "        6.00000000e+01],\n",
       "       [3.51351351e-01, 4.69387755e-01, 7.50000000e+01, 1.00000000e+00,\n",
       "        5.90000000e+01],\n",
       "       [3.51351351e-01, 5.40816327e-01, 7.60000000e+01, 1.00000000e+00,\n",
       "        2.60000000e+01],\n",
       "       [3.51351351e-01, 5.30612245e-01, 7.70000000e+01, 0.00000000e+00,\n",
       "        4.50000000e+01],\n",
       "       [3.51351351e-01, 4.79591837e-01, 7.80000000e+01, 1.00000000e+00,\n",
       "        4.00000000e+01],\n",
       "       [3.51351351e-01, 5.20408163e-01, 7.90000000e+01, 0.00000000e+00,\n",
       "        2.30000000e+01],\n",
       "       [3.51351351e-01, 4.18367347e-01, 8.00000000e+01, 0.00000000e+00,\n",
       "        4.90000000e+01],\n",
       "       [3.51351351e-01, 5.10204082e-01, 8.10000000e+01, 1.00000000e+00,\n",
       "        5.70000000e+01],\n",
       "       [3.51351351e-01, 5.51020408e-01, 8.20000000e+01, 1.00000000e+00,\n",
       "        3.80000000e+01],\n",
       "       [3.51351351e-01, 4.08163265e-01, 8.30000000e+01, 1.00000000e+00,\n",
       "        6.70000000e+01],\n",
       "       [3.51351351e-01, 4.38775510e-01, 8.40000000e+01, 0.00000000e+00,\n",
       "        4.60000000e+01],\n",
       "       [3.51351351e-01, 5.71428571e-01, 8.50000000e+01, 0.00000000e+00,\n",
       "        2.10000000e+01],\n",
       "       [3.51351351e-01, 4.59183673e-01, 8.60000000e+01, 1.00000000e+00,\n",
       "        4.80000000e+01],\n",
       "       [3.78378378e-01, 5.81632653e-01, 8.70000000e+01, 0.00000000e+00,\n",
       "        5.50000000e+01],\n",
       "       [3.78378378e-01, 5.51020408e-01, 8.80000000e+01, 0.00000000e+00,\n",
       "        2.20000000e+01],\n",
       "       [3.87387387e-01, 6.02040816e-01, 8.90000000e+01, 0.00000000e+00,\n",
       "        3.40000000e+01],\n",
       "       [3.87387387e-01, 4.59183673e-01, 9.00000000e+01, 0.00000000e+00,\n",
       "        5.00000000e+01],\n",
       "       [3.96396396e-01, 5.51020408e-01, 9.10000000e+01, 0.00000000e+00,\n",
       "        6.80000000e+01],\n",
       "       [3.96396396e-01, 4.08163265e-01, 9.20000000e+01, 1.00000000e+00,\n",
       "        1.80000000e+01],\n",
       "       [4.05405405e-01, 4.89795918e-01, 9.30000000e+01, 1.00000000e+00,\n",
       "        4.80000000e+01],\n",
       "       [4.05405405e-01, 3.97959184e-01, 9.40000000e+01, 0.00000000e+00,\n",
       "        4.00000000e+01],\n",
       "       [4.05405405e-01, 4.18367347e-01, 9.50000000e+01, 0.00000000e+00,\n",
       "        3.20000000e+01],\n",
       "       [4.05405405e-01, 5.20408163e-01, 9.60000000e+01, 1.00000000e+00,\n",
       "        2.40000000e+01],\n",
       "       [4.05405405e-01, 4.69387755e-01, 9.70000000e+01, 0.00000000e+00,\n",
       "        4.70000000e+01],\n",
       "       [4.05405405e-01, 5.00000000e-01, 9.80000000e+01, 0.00000000e+00,\n",
       "        2.70000000e+01],\n",
       "       [4.14414414e-01, 4.18367347e-01, 9.90000000e+01, 1.00000000e+00,\n",
       "        4.80000000e+01],\n",
       "       [4.14414414e-01, 4.89795918e-01, 1.00000000e+02, 1.00000000e+00,\n",
       "        2.00000000e+01],\n",
       "       [4.23423423e-01, 4.08163265e-01, 1.01000000e+02, 0.00000000e+00,\n",
       "        2.30000000e+01],\n",
       "       [4.23423423e-01, 4.79591837e-01, 1.02000000e+02, 0.00000000e+00,\n",
       "        4.90000000e+01],\n",
       "       [4.23423423e-01, 5.91836735e-01, 1.03000000e+02, 1.00000000e+00,\n",
       "        6.70000000e+01],\n",
       "       [4.23423423e-01, 5.51020408e-01, 1.04000000e+02, 1.00000000e+00,\n",
       "        2.60000000e+01],\n",
       "       [4.23423423e-01, 5.61224490e-01, 1.05000000e+02, 1.00000000e+00,\n",
       "        4.90000000e+01],\n",
       "       [4.23423423e-01, 4.18367347e-01, 1.06000000e+02, 0.00000000e+00,\n",
       "        2.10000000e+01],\n",
       "       [4.32432432e-01, 5.00000000e-01, 1.07000000e+02, 0.00000000e+00,\n",
       "        6.60000000e+01],\n",
       "       [4.32432432e-01, 4.59183673e-01, 1.08000000e+02, 1.00000000e+00,\n",
       "        5.40000000e+01],\n",
       "       [4.32432432e-01, 4.28571429e-01, 1.09000000e+02, 1.00000000e+00,\n",
       "        6.80000000e+01],\n",
       "       [4.32432432e-01, 4.79591837e-01, 1.10000000e+02, 1.00000000e+00,\n",
       "        6.60000000e+01],\n",
       "       [4.32432432e-01, 5.20408163e-01, 1.11000000e+02, 1.00000000e+00,\n",
       "        6.50000000e+01],\n",
       "       [4.32432432e-01, 5.40816327e-01, 1.12000000e+02, 0.00000000e+00,\n",
       "        1.90000000e+01],\n",
       "       [4.41441441e-01, 4.18367347e-01, 1.13000000e+02, 0.00000000e+00,\n",
       "        3.80000000e+01],\n",
       "       [4.41441441e-01, 4.59183673e-01, 1.14000000e+02, 1.00000000e+00,\n",
       "        1.90000000e+01],\n",
       "       [4.50450450e-01, 4.79591837e-01, 1.15000000e+02, 0.00000000e+00,\n",
       "        1.80000000e+01],\n",
       "       [4.50450450e-01, 5.00000000e-01, 1.16000000e+02, 0.00000000e+00,\n",
       "        1.90000000e+01],\n",
       "       [4.50450450e-01, 4.28571429e-01, 1.17000000e+02, 0.00000000e+00,\n",
       "        6.30000000e+01],\n",
       "       [4.50450450e-01, 5.91836735e-01, 1.18000000e+02, 0.00000000e+00,\n",
       "        4.90000000e+01],\n",
       "       [4.68468468e-01, 4.28571429e-01, 1.19000000e+02, 0.00000000e+00,\n",
       "        5.10000000e+01],\n",
       "       [4.68468468e-01, 5.71428571e-01, 1.20000000e+02, 0.00000000e+00,\n",
       "        5.00000000e+01],\n",
       "       [4.68468468e-01, 5.61224490e-01, 1.21000000e+02, 1.00000000e+00,\n",
       "        2.70000000e+01],\n",
       "       [4.68468468e-01, 3.97959184e-01, 1.22000000e+02, 0.00000000e+00,\n",
       "        3.80000000e+01],\n",
       "       [4.86486486e-01, 5.81632653e-01, 1.23000000e+02, 0.00000000e+00,\n",
       "        4.00000000e+01],\n",
       "       [4.86486486e-01, 9.18367347e-01, 1.24000000e+02, 1.00000000e+00,\n",
       "        3.90000000e+01],\n",
       "       [4.95495495e-01, 2.85714286e-01, 1.25000000e+02, 0.00000000e+00,\n",
       "        2.30000000e+01],\n",
       "       [4.95495495e-01, 7.75510204e-01, 1.26000000e+02, 0.00000000e+00,\n",
       "        3.10000000e+01],\n",
       "       [5.04504505e-01, 3.46938776e-01, 1.27000000e+02, 1.00000000e+00,\n",
       "        4.30000000e+01],\n",
       "       [5.04504505e-01, 9.59183673e-01, 1.28000000e+02, 1.00000000e+00,\n",
       "        4.00000000e+01],\n",
       "       [5.04504505e-01, 1.02040816e-01, 1.29000000e+02, 1.00000000e+00,\n",
       "        5.90000000e+01],\n",
       "       [5.04504505e-01, 7.55102041e-01, 1.30000000e+02, 1.00000000e+00,\n",
       "        3.80000000e+01],\n",
       "       [5.04504505e-01, 8.16326531e-02, 1.31000000e+02, 1.00000000e+00,\n",
       "        4.70000000e+01],\n",
       "       [5.04504505e-01, 7.55102041e-01, 1.32000000e+02, 1.00000000e+00,\n",
       "        3.90000000e+01],\n",
       "       [5.13513514e-01, 3.36734694e-01, 1.33000000e+02, 0.00000000e+00,\n",
       "        2.50000000e+01],\n",
       "       [5.13513514e-01, 7.14285714e-01, 1.34000000e+02, 0.00000000e+00,\n",
       "        3.10000000e+01],\n",
       "       [5.22522523e-01, 4.08163265e-02, 1.35000000e+02, 1.00000000e+00,\n",
       "        2.00000000e+01],\n",
       "       [5.22522523e-01, 8.87755102e-01, 1.36000000e+02, 0.00000000e+00,\n",
       "        2.90000000e+01],\n",
       "       [5.22522523e-01, 6.12244898e-02, 1.37000000e+02, 0.00000000e+00,\n",
       "        4.40000000e+01],\n",
       "       [5.22522523e-01, 7.34693878e-01, 1.38000000e+02, 1.00000000e+00,\n",
       "        3.20000000e+01],\n",
       "       [5.31531532e-01, 9.18367347e-02, 1.39000000e+02, 1.00000000e+00,\n",
       "        1.90000000e+01],\n",
       "       [5.31531532e-01, 7.24489796e-01, 1.40000000e+02, 0.00000000e+00,\n",
       "        3.50000000e+01],\n",
       "       [5.40540541e-01, 4.08163265e-02, 1.41000000e+02, 0.00000000e+00,\n",
       "        5.70000000e+01],\n",
       "       [5.40540541e-01, 9.38775510e-01, 1.42000000e+02, 1.00000000e+00,\n",
       "        3.20000000e+01],\n",
       "       [5.49549550e-01, 3.97959184e-01, 1.43000000e+02, 0.00000000e+00,\n",
       "        2.80000000e+01],\n",
       "       [5.49549550e-01, 8.77551020e-01, 1.44000000e+02, 0.00000000e+00,\n",
       "        3.20000000e+01],\n",
       "       [5.58558559e-01, 1.12244898e-01, 1.45000000e+02, 1.00000000e+00,\n",
       "        2.50000000e+01],\n",
       "       [5.58558559e-01, 9.79591837e-01, 1.46000000e+02, 1.00000000e+00,\n",
       "        2.80000000e+01],\n",
       "       [5.58558559e-01, 3.57142857e-01, 1.47000000e+02, 1.00000000e+00,\n",
       "        4.80000000e+01],\n",
       "       [5.58558559e-01, 7.44897959e-01, 1.48000000e+02, 0.00000000e+00,\n",
       "        3.20000000e+01],\n",
       "       [5.67567568e-01, 2.14285714e-01, 1.49000000e+02, 0.00000000e+00,\n",
       "        3.40000000e+01],\n",
       "       [5.67567568e-01, 9.08163265e-01, 1.50000000e+02, 1.00000000e+00,\n",
       "        3.40000000e+01],\n",
       "       [5.67567568e-01, 1.63265306e-01, 1.51000000e+02, 1.00000000e+00,\n",
       "        4.30000000e+01],\n",
       "       [5.67567568e-01, 8.87755102e-01, 1.52000000e+02, 1.00000000e+00,\n",
       "        3.90000000e+01],\n",
       "       [5.67567568e-01, 1.93877551e-01, 1.53000000e+02, 0.00000000e+00,\n",
       "        4.40000000e+01],\n",
       "       [5.67567568e-01, 7.65306122e-01, 1.54000000e+02, 0.00000000e+00,\n",
       "        3.80000000e+01],\n",
       "       [5.67567568e-01, 1.53061224e-01, 1.55000000e+02, 0.00000000e+00,\n",
       "        4.70000000e+01],\n",
       "       [5.67567568e-01, 8.97959184e-01, 1.56000000e+02, 0.00000000e+00,\n",
       "        2.70000000e+01],\n",
       "       [5.67567568e-01, 0.00000000e+00, 1.57000000e+02, 1.00000000e+00,\n",
       "        3.70000000e+01],\n",
       "       [5.67567568e-01, 7.85714286e-01, 1.58000000e+02, 0.00000000e+00,\n",
       "        3.00000000e+01],\n",
       "       [5.67567568e-01, 0.00000000e+00, 1.59000000e+02, 1.00000000e+00,\n",
       "        3.40000000e+01],\n",
       "       [5.67567568e-01, 7.34693878e-01, 1.60000000e+02, 0.00000000e+00,\n",
       "        3.00000000e+01],\n",
       "       [5.76576577e-01, 3.46938776e-01, 1.61000000e+02, 0.00000000e+00,\n",
       "        5.60000000e+01],\n",
       "       [5.76576577e-01, 8.36734694e-01, 1.62000000e+02, 0.00000000e+00,\n",
       "        2.90000000e+01],\n",
       "       [5.94594595e-01, 4.08163265e-02, 1.63000000e+02, 1.00000000e+00,\n",
       "        1.90000000e+01],\n",
       "       [5.94594595e-01, 9.38775510e-01, 1.64000000e+02, 0.00000000e+00,\n",
       "        3.10000000e+01],\n",
       "       [6.30630631e-01, 2.55102041e-01, 1.65000000e+02, 1.00000000e+00,\n",
       "        5.00000000e+01],\n",
       "       [6.30630631e-01, 7.55102041e-01, 1.66000000e+02, 0.00000000e+00,\n",
       "        3.60000000e+01],\n",
       "       [6.39639640e-01, 1.93877551e-01, 1.67000000e+02, 1.00000000e+00,\n",
       "        4.20000000e+01],\n",
       "       [6.39639640e-01, 9.59183673e-01, 1.68000000e+02, 0.00000000e+00,\n",
       "        3.30000000e+01],\n",
       "       [6.48648649e-01, 2.65306122e-01, 1.69000000e+02, 0.00000000e+00,\n",
       "        3.60000000e+01],\n",
       "       [6.48648649e-01, 6.32653061e-01, 1.70000000e+02, 1.00000000e+00,\n",
       "        3.20000000e+01],\n",
       "       [6.48648649e-01, 1.22448980e-01, 1.71000000e+02, 1.00000000e+00,\n",
       "        4.00000000e+01],\n",
       "       [6.48648649e-01, 7.55102041e-01, 1.72000000e+02, 1.00000000e+00,\n",
       "        2.80000000e+01],\n",
       "       [6.48648649e-01, 9.18367347e-02, 1.73000000e+02, 1.00000000e+00,\n",
       "        3.60000000e+01],\n",
       "       [6.48648649e-01, 9.28571429e-01, 1.74000000e+02, 1.00000000e+00,\n",
       "        3.60000000e+01],\n",
       "       [6.57657658e-01, 1.22448980e-01, 1.75000000e+02, 0.00000000e+00,\n",
       "        5.20000000e+01],\n",
       "       [6.57657658e-01, 8.67346939e-01, 1.76000000e+02, 0.00000000e+00,\n",
       "        3.00000000e+01],\n",
       "       [6.57657658e-01, 1.42857143e-01, 1.77000000e+02, 1.00000000e+00,\n",
       "        5.80000000e+01],\n",
       "       [6.57657658e-01, 6.93877551e-01, 1.78000000e+02, 1.00000000e+00,\n",
       "        2.70000000e+01],\n",
       "       [7.02702703e-01, 1.32653061e-01, 1.79000000e+02, 1.00000000e+00,\n",
       "        5.90000000e+01],\n",
       "       [7.02702703e-01, 9.08163265e-01, 1.80000000e+02, 1.00000000e+00,\n",
       "        3.50000000e+01],\n",
       "       [7.38738739e-01, 3.16326531e-01, 1.81000000e+02, 0.00000000e+00,\n",
       "        3.70000000e+01],\n",
       "       [7.38738739e-01, 8.67346939e-01, 1.82000000e+02, 0.00000000e+00,\n",
       "        3.20000000e+01],\n",
       "       [7.47747748e-01, 1.42857143e-01, 1.83000000e+02, 1.00000000e+00,\n",
       "        4.60000000e+01],\n",
       "       [7.47747748e-01, 8.87755102e-01, 1.84000000e+02, 0.00000000e+00,\n",
       "        2.90000000e+01],\n",
       "       [7.56756757e-01, 3.87755102e-01, 1.85000000e+02, 0.00000000e+00,\n",
       "        4.10000000e+01],\n",
       "       [7.56756757e-01, 9.79591837e-01, 1.86000000e+02, 1.00000000e+00,\n",
       "        3.00000000e+01],\n",
       "       [7.74774775e-01, 2.34693878e-01, 1.87000000e+02, 0.00000000e+00,\n",
       "        5.40000000e+01],\n",
       "       [7.74774775e-01, 6.83673469e-01, 1.88000000e+02, 1.00000000e+00,\n",
       "        2.80000000e+01],\n",
       "       [7.92792793e-01, 1.63265306e-01, 1.89000000e+02, 0.00000000e+00,\n",
       "        4.10000000e+01],\n",
       "       [7.92792793e-01, 8.57142857e-01, 1.90000000e+02, 0.00000000e+00,\n",
       "        3.60000000e+01],\n",
       "       [7.92792793e-01, 2.24489796e-01, 1.91000000e+02, 0.00000000e+00,\n",
       "        3.40000000e+01],\n",
       "       [7.92792793e-01, 6.93877551e-01, 1.92000000e+02, 0.00000000e+00,\n",
       "        3.20000000e+01],\n",
       "       [8.82882883e-01, 7.14285714e-02, 1.93000000e+02, 1.00000000e+00,\n",
       "        3.30000000e+01],\n",
       "       [8.82882883e-01, 9.18367347e-01, 1.94000000e+02, 0.00000000e+00,\n",
       "        3.80000000e+01],\n",
       "       [9.45945946e-01, 1.53061224e-01, 1.95000000e+02, 0.00000000e+00,\n",
       "        4.70000000e+01],\n",
       "       [9.45945946e-01, 7.95918367e-01, 1.96000000e+02, 0.00000000e+00,\n",
       "        3.50000000e+01],\n",
       "       [1.00000000e+00, 2.75510204e-01, 1.97000000e+02, 0.00000000e+00,\n",
       "        4.50000000e+01],\n",
       "       [1.00000000e+00, 7.44897959e-01, 1.98000000e+02, 1.00000000e+00,\n",
       "        3.20000000e+01]])"
      ]
     },
     "execution_count": 31,
     "metadata": {},
     "output_type": "execute_result"
    }
   ],
   "source": [
    "df_scaled"
   ]
  },
  {
   "cell_type": "code",
   "execution_count": 32,
   "id": "93aba842",
   "metadata": {},
   "outputs": [
    {
     "name": "stderr",
     "output_type": "stream",
     "text": [
      "E:\\Software\\Anaconda\\New\\envs\\VITB\\Lib\\site-packages\\sklearn\\cluster\\_kmeans.py:870: FutureWarning: The default value of `n_init` will change from 10 to 'auto' in 1.4. Set the value of `n_init` explicitly to suppress the warning\n",
      "  warnings.warn(\n",
      "E:\\Software\\Anaconda\\New\\envs\\VITB\\Lib\\site-packages\\sklearn\\cluster\\_kmeans.py:1382: UserWarning: KMeans is known to have a memory leak on Windows with MKL, when there are less chunks than available threads. You can avoid it by setting the environment variable OMP_NUM_THREADS=1.\n",
      "  warnings.warn(\n",
      "E:\\Software\\Anaconda\\New\\envs\\VITB\\Lib\\site-packages\\sklearn\\cluster\\_kmeans.py:870: FutureWarning: The default value of `n_init` will change from 10 to 'auto' in 1.4. Set the value of `n_init` explicitly to suppress the warning\n",
      "  warnings.warn(\n",
      "E:\\Software\\Anaconda\\New\\envs\\VITB\\Lib\\site-packages\\sklearn\\cluster\\_kmeans.py:1382: UserWarning: KMeans is known to have a memory leak on Windows with MKL, when there are less chunks than available threads. You can avoid it by setting the environment variable OMP_NUM_THREADS=1.\n",
      "  warnings.warn(\n",
      "E:\\Software\\Anaconda\\New\\envs\\VITB\\Lib\\site-packages\\sklearn\\cluster\\_kmeans.py:870: FutureWarning: The default value of `n_init` will change from 10 to 'auto' in 1.4. Set the value of `n_init` explicitly to suppress the warning\n",
      "  warnings.warn(\n",
      "E:\\Software\\Anaconda\\New\\envs\\VITB\\Lib\\site-packages\\sklearn\\cluster\\_kmeans.py:1382: UserWarning: KMeans is known to have a memory leak on Windows with MKL, when there are less chunks than available threads. You can avoid it by setting the environment variable OMP_NUM_THREADS=1.\n",
      "  warnings.warn(\n",
      "E:\\Software\\Anaconda\\New\\envs\\VITB\\Lib\\site-packages\\sklearn\\cluster\\_kmeans.py:870: FutureWarning: The default value of `n_init` will change from 10 to 'auto' in 1.4. Set the value of `n_init` explicitly to suppress the warning\n",
      "  warnings.warn(\n",
      "E:\\Software\\Anaconda\\New\\envs\\VITB\\Lib\\site-packages\\sklearn\\cluster\\_kmeans.py:1382: UserWarning: KMeans is known to have a memory leak on Windows with MKL, when there are less chunks than available threads. You can avoid it by setting the environment variable OMP_NUM_THREADS=1.\n",
      "  warnings.warn(\n",
      "E:\\Software\\Anaconda\\New\\envs\\VITB\\Lib\\site-packages\\sklearn\\cluster\\_kmeans.py:870: FutureWarning: The default value of `n_init` will change from 10 to 'auto' in 1.4. Set the value of `n_init` explicitly to suppress the warning\n",
      "  warnings.warn(\n",
      "E:\\Software\\Anaconda\\New\\envs\\VITB\\Lib\\site-packages\\sklearn\\cluster\\_kmeans.py:1382: UserWarning: KMeans is known to have a memory leak on Windows with MKL, when there are less chunks than available threads. You can avoid it by setting the environment variable OMP_NUM_THREADS=1.\n",
      "  warnings.warn(\n",
      "E:\\Software\\Anaconda\\New\\envs\\VITB\\Lib\\site-packages\\sklearn\\cluster\\_kmeans.py:870: FutureWarning: The default value of `n_init` will change from 10 to 'auto' in 1.4. Set the value of `n_init` explicitly to suppress the warning\n",
      "  warnings.warn(\n",
      "E:\\Software\\Anaconda\\New\\envs\\VITB\\Lib\\site-packages\\sklearn\\cluster\\_kmeans.py:1382: UserWarning: KMeans is known to have a memory leak on Windows with MKL, when there are less chunks than available threads. You can avoid it by setting the environment variable OMP_NUM_THREADS=1.\n",
      "  warnings.warn(\n",
      "E:\\Software\\Anaconda\\New\\envs\\VITB\\Lib\\site-packages\\sklearn\\cluster\\_kmeans.py:870: FutureWarning: The default value of `n_init` will change from 10 to 'auto' in 1.4. Set the value of `n_init` explicitly to suppress the warning\n",
      "  warnings.warn(\n",
      "E:\\Software\\Anaconda\\New\\envs\\VITB\\Lib\\site-packages\\sklearn\\cluster\\_kmeans.py:1382: UserWarning: KMeans is known to have a memory leak on Windows with MKL, when there are less chunks than available threads. You can avoid it by setting the environment variable OMP_NUM_THREADS=1.\n",
      "  warnings.warn(\n",
      "E:\\Software\\Anaconda\\New\\envs\\VITB\\Lib\\site-packages\\sklearn\\cluster\\_kmeans.py:870: FutureWarning: The default value of `n_init` will change from 10 to 'auto' in 1.4. Set the value of `n_init` explicitly to suppress the warning\n",
      "  warnings.warn(\n",
      "E:\\Software\\Anaconda\\New\\envs\\VITB\\Lib\\site-packages\\sklearn\\cluster\\_kmeans.py:1382: UserWarning: KMeans is known to have a memory leak on Windows with MKL, when there are less chunks than available threads. You can avoid it by setting the environment variable OMP_NUM_THREADS=1.\n",
      "  warnings.warn(\n",
      "E:\\Software\\Anaconda\\New\\envs\\VITB\\Lib\\site-packages\\sklearn\\cluster\\_kmeans.py:870: FutureWarning: The default value of `n_init` will change from 10 to 'auto' in 1.4. Set the value of `n_init` explicitly to suppress the warning\n",
      "  warnings.warn(\n",
      "E:\\Software\\Anaconda\\New\\envs\\VITB\\Lib\\site-packages\\sklearn\\cluster\\_kmeans.py:1382: UserWarning: KMeans is known to have a memory leak on Windows with MKL, when there are less chunks than available threads. You can avoid it by setting the environment variable OMP_NUM_THREADS=1.\n",
      "  warnings.warn(\n",
      "E:\\Software\\Anaconda\\New\\envs\\VITB\\Lib\\site-packages\\sklearn\\cluster\\_kmeans.py:870: FutureWarning: The default value of `n_init` will change from 10 to 'auto' in 1.4. Set the value of `n_init` explicitly to suppress the warning\n",
      "  warnings.warn(\n",
      "E:\\Software\\Anaconda\\New\\envs\\VITB\\Lib\\site-packages\\sklearn\\cluster\\_kmeans.py:1382: UserWarning: KMeans is known to have a memory leak on Windows with MKL, when there are less chunks than available threads. You can avoid it by setting the environment variable OMP_NUM_THREADS=1.\n",
      "  warnings.warn(\n"
     ]
    }
   ],
   "source": [
    "error_scaled= []\n",
    "for i in range(1,11):\n",
    "    kmeans = cluster.KMeans(n_clusters=i, init = 'k-means++', random_state=0)\n",
    "    kmeans.fit(df_scaled)\n",
    "    error_scaled.append(kmeans.inertia_)"
   ]
  },
  {
   "cell_type": "code",
   "execution_count": 33,
   "id": "faa776e5",
   "metadata": {},
   "outputs": [
    {
     "data": {
      "text/plain": [
       "[685626.937839837,\n",
       " 200264.45693065968,\n",
       " 109286.89811966066,\n",
       " 76648.4067155204,\n",
       " 61655.08011879002,\n",
       " 51582.55334745083,\n",
       " 43066.14152015538,\n",
       " 36481.360046374844,\n",
       " 31014.56870965635,\n",
       " 27543.754768323473]"
      ]
     },
     "execution_count": 33,
     "metadata": {},
     "output_type": "execute_result"
    }
   ],
   "source": [
    "error_scaled"
   ]
  },
  {
   "cell_type": "code",
   "execution_count": 35,
   "id": "5ff3cd26",
   "metadata": {},
   "outputs": [
    {
     "data": {
      "image/png": "[encoded data removed]",
      "text/plain": [
       "<Figure size 640x480 with 1 Axes>"
      ]
     },
     "metadata": {},
     "output_type": "display_data"
    }
   ],
   "source": [
    "plt.plot(range(1,11),error_scaled)\n",
    "plt.title('Elbow method on Scaled data')\n",
    "plt.xlabel('number of clusters')\n",
    "plt.ylabel('error_scaled')\n",
    "plt.show()"
   ]
  },
  {
   "cell_type": "code",
   "execution_count": 36,
   "id": "87b749f2",
   "metadata": {},
   "outputs": [],
   "source": [
    "km_model1 = cluster.KMeans(n_clusters=3,init = 'k-means++',random_state=0)"
   ]
  },
  {
   "cell_type": "code",
   "execution_count": 37,
   "id": "556750b4",
   "metadata": {},
   "outputs": [
    {
     "name": "stderr",
     "output_type": "stream",
     "text": [
      "E:\\Software\\Anaconda\\New\\envs\\VITB\\Lib\\site-packages\\sklearn\\cluster\\_kmeans.py:870: FutureWarning: The default value of `n_init` will change from 10 to 'auto' in 1.4. Set the value of `n_init` explicitly to suppress the warning\n",
      "  warnings.warn(\n",
      "E:\\Software\\Anaconda\\New\\envs\\VITB\\Lib\\site-packages\\sklearn\\cluster\\_kmeans.py:1382: UserWarning: KMeans is known to have a memory leak on Windows with MKL, when there are less chunks than available threads. You can avoid it by setting the environment variable OMP_NUM_THREADS=1.\n",
      "  warnings.warn(\n"
     ]
    },
    {
     "data": {
      "text/html": [
       "<style>#sk-container-id-2 {color: black;background-color: white;}#sk-container-id-2 pre{padding: 0;}#sk-container-id-2 div.sk-toggleable {background-color: white;}#sk-container-id-2 label.sk-toggleable__label {cursor: pointer;display: block;width: 100%;margin-bottom: 0;padding: 0.3em;box-sizing: border-box;text-align: center;}#sk-container-id-2 label.sk-toggleable__label-arrow:before {content: \"▸\";float: left;margin-right: 0.25em;color: #696969;}#sk-container-id-2 label.sk-toggleable__label-arrow:hover:before {color: black;}#sk-container-id-2 div.sk-estimator:hover label.sk-toggleable__label-arrow:before {color: black;}#sk-container-id-2 div.sk-toggleable__content {max-height: 0;max-width: 0;overflow: hidden;text-align: left;background-color: #f0f8ff;}#sk-container-id-2 div.sk-toggleable__content pre {margin: 0.2em;color: black;border-radius: 0.25em;background-color: #f0f8ff;}#sk-container-id-2 input.sk-toggleable__control:checked~div.sk-toggleable__content {max-height: 200px;max-width: 100%;overflow: auto;}#sk-container-id-2 input.sk-toggleable__control:checked~label.sk-toggleable__label-arrow:before {content: \"▾\";}#sk-container-id-2 div.sk-estimator input.sk-toggleable__control:checked~label.sk-toggleable__label {background-color: #d4ebff;}#sk-container-id-2 div.sk-label input.sk-toggleable__control:checked~label.sk-toggleable__label {background-color: #d4ebff;}#sk-container-id-2 input.sk-hidden--visually {border: 0;clip: rect(1px 1px 1px 1px);clip: rect(1px, 1px, 1px, 1px);height: 1px;margin: -1px;overflow: hidden;padding: 0;position: absolute;width: 1px;}#sk-container-id-2 div.sk-estimator {font-family: monospace;background-color: #f0f8ff;border: 1px dotted black;border-radius: 0.25em;box-sizing: border-box;margin-bottom: 0.5em;}#sk-container-id-2 div.sk-estimator:hover {background-color: #d4ebff;}#sk-container-id-2 div.sk-parallel-item::after {content: \"\";width: 100%;border-bottom: 1px solid gray;flex-grow: 1;}#sk-container-id-2 div.sk-label:hover label.sk-toggleable__label {background-color: #d4ebff;}#sk-container-id-2 div.sk-serial::before {content: \"\";position: absolute;border-left: 1px solid gray;box-sizing: border-box;top: 0;bottom: 0;left: 50%;z-index: 0;}#sk-container-id-2 div.sk-serial {display: flex;flex-direction: column;align-items: center;background-color: white;padding-right: 0.2em;padding-left: 0.2em;position: relative;}#sk-container-id-2 div.sk-item {position: relative;z-index: 1;}#sk-container-id-2 div.sk-parallel {display: flex;align-items: stretch;justify-content: center;background-color: white;position: relative;}#sk-container-id-2 div.sk-item::before, #sk-container-id-2 div.sk-parallel-item::before {content: \"\";position: absolute;border-left: 1px solid gray;box-sizing: border-box;top: 0;bottom: 0;left: 50%;z-index: -1;}#sk-container-id-2 div.sk-parallel-item {display: flex;flex-direction: column;z-index: 1;position: relative;background-color: white;}#sk-container-id-2 div.sk-parallel-item:first-child::after {align-self: flex-end;width: 50%;}#sk-container-id-2 div.sk-parallel-item:last-child::after {align-self: flex-start;width: 50%;}#sk-container-id-2 div.sk-parallel-item:only-child::after {width: 0;}#sk-container-id-2 div.sk-dashed-wrapped {border: 1px dashed gray;margin: 0 0.4em 0.5em 0.4em;box-sizing: border-box;padding-bottom: 0.4em;background-color: white;}#sk-container-id-2 div.sk-label label {font-family: monospace;font-weight: bold;display: inline-block;line-height: 1.2em;}#sk-container-id-2 div.sk-label-container {text-align: center;}#sk-container-id-2 div.sk-container {/* jupyter's `normalize.less` sets `[hidden] { display: none; }` but bootstrap.min.css set `[hidden] { display: none !important; }` so we also need the `!important` here to be able to override the default hidden behavior on the sphinx rendered scikit-learn.org. See: https://github.com/scikit-learn/scikit-learn/issues/21755 */display: inline-block !important;position: relative;}#sk-container-id-2 div.sk-text-repr-fallback {display: none;}</style><div id=\"sk-container-id-2\" class=\"sk-top-container\"><div class=\"sk-text-repr-fallback\"><pre>KMeans(n_clusters=3, random_state=0)</pre><b>In a Jupyter environment, please rerun this cell to show the HTML representation or trust the notebook. <br />On GitHub, the HTML representation is unable to render, please try loading this page with nbviewer.org.</b></div><div class=\"sk-container\" hidden><div class=\"sk-item\"><div class=\"sk-estimator sk-toggleable\"><input class=\"sk-toggleable__control sk-hidden--visually\" id=\"sk-estimator-id-2\" type=\"checkbox\" checked><label for=\"sk-estimator-id-2\" class=\"sk-toggleable__label sk-toggleable__label-arrow\">KMeans</label><div class=\"sk-toggleable__content\"><pre>KMeans(n_clusters=3, random_state=0)</pre></div></div></div></div></div>"
      ],
      "text/plain": [
       "KMeans(n_clusters=3, random_state=0)"
      ]
     },
     "execution_count": 37,
     "metadata": {},
     "output_type": "execute_result"
    }
   ],
   "source": [
    "km_model1.fit(df_scaled)"
   ]
  },
  {
   "cell_type": "code",
   "execution_count": 38,
   "id": "85519ce4",
   "metadata": {},
   "outputs": [
    {
     "data": {
      "text/plain": [
       "array([1, 1, 1, 1, 1, 1, 1, 1, 1, 1, 1, 1, 1, 1, 1, 1, 1, 1, 1, 1, 1, 1,\n",
       "       1, 1, 1, 1, 1, 1, 1, 1, 1, 1, 1, 1, 1, 1, 1, 1, 1, 1, 1, 1, 1, 1,\n",
       "       1, 1, 1, 1, 1, 1, 1, 1, 1, 1, 1, 1, 1, 1, 1, 1, 1, 1, 1, 1, 2, 1,\n",
       "       2, 2, 2, 2, 2, 2, 2, 2, 2, 2, 2, 2, 2, 2, 2, 2, 2, 2, 2, 2, 2, 2,\n",
       "       2, 2, 2, 2, 2, 2, 2, 2, 2, 2, 2, 2, 2, 2, 2, 2, 2, 2, 2, 2, 2, 2,\n",
       "       2, 2, 2, 2, 2, 2, 2, 2, 2, 2, 2, 2, 2, 2, 2, 2, 2, 2, 2, 2, 2, 0,\n",
       "       0, 0, 0, 0, 0, 0, 0, 0, 0, 0, 0, 0, 0, 0, 0, 0, 0, 0, 0, 0, 0, 0,\n",
       "       0, 0, 0, 0, 0, 0, 0, 0, 0, 0, 0, 0, 0, 0, 0, 0, 0, 0, 0, 0, 0, 0,\n",
       "       0, 0, 0, 0, 0, 0, 0, 0, 0, 0, 0, 0, 0, 0, 0, 0, 0, 0, 0, 0, 0, 0])"
      ]
     },
     "execution_count": 38,
     "metadata": {},
     "output_type": "execute_result"
    }
   ],
   "source": [
    "pred1 = km_model1.predict(df_scaled)\n",
    "pred1"
   ]
  },
  {
   "cell_type": "markdown",
   "id": "0d639f09",
   "metadata": {},
   "source": [
    "## Visualizing the data"
   ]
  },
  {
   "cell_type": "code",
   "execution_count": 40,
   "id": "9a451780",
   "metadata": {},
   "outputs": [
    {
     "data": {
      "text/html": [
       "<div>\n",
       "<style scoped>\n",
       "    .dataframe tbody tr th:only-of-type {\n",
       "        vertical-align: middle;\n",
       "    }\n",
       "\n",
       "    .dataframe tbody tr th {\n",
       "        vertical-align: top;\n",
       "    }\n",
       "\n",
       "    .dataframe thead th {\n",
       "        text-align: right;\n",
       "    }\n",
       "</style>\n",
       "<table border=\"1\" class=\"dataframe\">\n",
       "  <thead>\n",
       "    <tr style=\"text-align: right;\">\n",
       "      <th></th>\n",
       "      <th>CustomerID</th>\n",
       "      <th>Gender</th>\n",
       "      <th>Age</th>\n",
       "      <th>Annual_Income</th>\n",
       "      <th>Spending_Score(1-100)</th>\n",
       "      <th>Cluster</th>\n",
       "    </tr>\n",
       "  </thead>\n",
       "  <tbody>\n",
       "    <tr>\n",
       "      <th>0</th>\n",
       "      <td>1</td>\n",
       "      <td>1</td>\n",
       "      <td>19</td>\n",
       "      <td>15</td>\n",
       "      <td>39</td>\n",
       "      <td>1</td>\n",
       "    </tr>\n",
       "    <tr>\n",
       "      <th>1</th>\n",
       "      <td>2</td>\n",
       "      <td>1</td>\n",
       "      <td>21</td>\n",
       "      <td>15</td>\n",
       "      <td>81</td>\n",
       "      <td>1</td>\n",
       "    </tr>\n",
       "    <tr>\n",
       "      <th>2</th>\n",
       "      <td>3</td>\n",
       "      <td>0</td>\n",
       "      <td>20</td>\n",
       "      <td>16</td>\n",
       "      <td>6</td>\n",
       "      <td>1</td>\n",
       "    </tr>\n",
       "    <tr>\n",
       "      <th>3</th>\n",
       "      <td>4</td>\n",
       "      <td>0</td>\n",
       "      <td>23</td>\n",
       "      <td>16</td>\n",
       "      <td>77</td>\n",
       "      <td>1</td>\n",
       "    </tr>\n",
       "    <tr>\n",
       "      <th>4</th>\n",
       "      <td>5</td>\n",
       "      <td>0</td>\n",
       "      <td>31</td>\n",
       "      <td>17</td>\n",
       "      <td>40</td>\n",
       "      <td>1</td>\n",
       "    </tr>\n",
       "    <tr>\n",
       "      <th>...</th>\n",
       "      <td>...</td>\n",
       "      <td>...</td>\n",
       "      <td>...</td>\n",
       "      <td>...</td>\n",
       "      <td>...</td>\n",
       "      <td>...</td>\n",
       "    </tr>\n",
       "    <tr>\n",
       "      <th>193</th>\n",
       "      <td>194</td>\n",
       "      <td>0</td>\n",
       "      <td>38</td>\n",
       "      <td>113</td>\n",
       "      <td>91</td>\n",
       "      <td>0</td>\n",
       "    </tr>\n",
       "    <tr>\n",
       "      <th>194</th>\n",
       "      <td>195</td>\n",
       "      <td>0</td>\n",
       "      <td>47</td>\n",
       "      <td>120</td>\n",
       "      <td>16</td>\n",
       "      <td>0</td>\n",
       "    </tr>\n",
       "    <tr>\n",
       "      <th>195</th>\n",
       "      <td>196</td>\n",
       "      <td>0</td>\n",
       "      <td>35</td>\n",
       "      <td>120</td>\n",
       "      <td>79</td>\n",
       "      <td>0</td>\n",
       "    </tr>\n",
       "    <tr>\n",
       "      <th>196</th>\n",
       "      <td>197</td>\n",
       "      <td>0</td>\n",
       "      <td>45</td>\n",
       "      <td>126</td>\n",
       "      <td>28</td>\n",
       "      <td>0</td>\n",
       "    </tr>\n",
       "    <tr>\n",
       "      <th>197</th>\n",
       "      <td>198</td>\n",
       "      <td>1</td>\n",
       "      <td>32</td>\n",
       "      <td>126</td>\n",
       "      <td>74</td>\n",
       "      <td>0</td>\n",
       "    </tr>\n",
       "  </tbody>\n",
       "</table>\n",
       "<p>198 rows × 6 columns</p>\n",
       "</div>"
      ],
      "text/plain": [
       "     CustomerID  Gender  Age  Annual_Income  Spending_Score(1-100)  Cluster\n",
       "0             1       1   19             15                     39        1\n",
       "1             2       1   21             15                     81        1\n",
       "2             3       0   20             16                      6        1\n",
       "3             4       0   23             16                     77        1\n",
       "4             5       0   31             17                     40        1\n",
       "..          ...     ...  ...            ...                    ...      ...\n",
       "193         194       0   38            113                     91        0\n",
       "194         195       0   47            120                     16        0\n",
       "195         196       0   35            120                     79        0\n",
       "196         197       0   45            126                     28        0\n",
       "197         198       1   32            126                     74        0\n",
       "\n",
       "[198 rows x 6 columns]"
      ]
     },
     "execution_count": 40,
     "metadata": {},
     "output_type": "execute_result"
    }
   ],
   "source": [
    "df['Cluster'] = pred1\n",
    "df"
   ]
  },
  {
   "cell_type": "code",
   "execution_count": 41,
   "id": "7515adc6",
   "metadata": {},
   "outputs": [
    {
     "data": {
      "text/plain": [
       "<matplotlib.legend.Legend at 0x2adfdffec90>"
      ]
     },
     "execution_count": 41,
     "metadata": {},
     "output_type": "execute_result"
    },
    {
     "data": {
      "image/png": "[encoded data removed]",
      "text/plain": [
       "<Figure size 640x480 with 1 Axes>"
      ]
     },
     "metadata": {},
     "output_type": "display_data"
    }
   ],
   "source": [
    "df1 = df[df.Cluster==0] \n",
    "df2 = df[df.Cluster==1] \n",
    "df3 = df[df.Cluster==2]\n",
    "plt.scatter(df1['Annual_Income'],df1['Spending_Score(1-100)'],color='green')\n",
    "plt.scatter(df2['Annual_Income'],df2['Spending_Score(1-100)'],color='red')\n",
    "plt.scatter(df3['Annual_Income'],df3['Spending_Score(1-100)'],color='black')\n",
    "plt.scatter(km_model.cluster_centers_[:,0],km_model.cluster_centers_[:,1],color='purple',marker='*',label='centroid')\n",
    "plt.xlabel('Annual_Income')\n",
    "plt.ylabel('Spending_Score(1-100)')\n",
    "plt.legend()"
   ]
  },
  {
   "cell_type": "markdown",
   "id": "205f5d02",
   "metadata": {},
   "source": [
    "## Predicting Unknown Value"
   ]
  },
  {
   "cell_type": "code",
   "execution_count": 42,
   "id": "b55aadf8",
   "metadata": {},
   "outputs": [
    {
     "name": "stderr",
     "output_type": "stream",
     "text": [
      "E:\\Software\\Anaconda\\New\\envs\\VITB\\Lib\\site-packages\\sklearn\\base.py:439: UserWarning: X does not have valid feature names, but KMeans was fitted with feature names\n",
      "  warnings.warn(\n"
     ]
    },
    {
     "data": {
      "text/plain": [
       "array([0])"
      ]
     },
     "execution_count": 42,
     "metadata": {},
     "output_type": "execute_result"
    }
   ],
   "source": [
    "km_model.predict([[201,1,43,50,88]])"
   ]
  },
  {
   "cell_type": "code",
   "execution_count": 43,
   "id": "e2f1d9cb",
   "metadata": {},
   "outputs": [
    {
     "name": "stderr",
     "output_type": "stream",
     "text": [
      "E:\\Software\\Anaconda\\New\\envs\\VITB\\Lib\\site-packages\\sklearn\\base.py:439: UserWarning: X does not have valid feature names, but KMeans was fitted with feature names\n",
      "  warnings.warn(\n"
     ]
    },
    {
     "data": {
      "text/plain": [
       "array([1])"
      ]
     },
     "execution_count": 43,
     "metadata": {},
     "output_type": "execute_result"
    }
   ],
   "source": [
    "km_model.predict([[68,1,19,48,60]])"
   ]
  },
  {
   "cell_type": "code",
   "execution_count": null,
   "id": "6b8e6dba",
   "metadata": {},
   "outputs": [],
   "source": []
  }
 ],
 "metadata": {
  "kernelspec": {
   "display_name": "Python 3 (ipykernel)",
   "language": "python",
   "name": "python3"
  },
  "language_info": {
   "codemirror_mode": {
    "name": "ipython",
    "version": 3
   },
   "file_extension": ".py",
   "mimetype": "text/x-python",
   "name": "python",
   "nbconvert_exporter": "python",
   "pygments_lexer": "ipython3",
   "version": "3.11.4"
  }
 },
 "nbformat": 4,
 "nbformat_minor": 5
}
